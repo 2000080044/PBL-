{
 "cells": [
  {
   "cell_type": "code",
   "execution_count": 9,
   "id": "e6c17eaa",
   "metadata": {},
   "outputs": [
    {
     "name": "stdout",
     "output_type": "stream",
     "text": [
      "            Date  Daily minimum temperatures\n",
      "0       1/1/1981                        20.7\n",
      "1       1/2/1981                        17.9\n",
      "2       1/3/1981                        18.8\n",
      "3       1/4/1981                        14.6\n",
      "4       1/5/1981                        15.8\n",
      "...          ...                         ...\n",
      "3645  12/27/1990                        14.0\n",
      "3646  12/28/1990                        13.6\n",
      "3647  12/29/1990                        13.5\n",
      "3648  12/30/1990                        15.7\n",
      "3649  12/31/1990                        13.0\n",
      "\n",
      "[3650 rows x 2 columns]\n"
     ]
    }
   ],
   "source": [
    "import numpy as np\n",
    "import pandas as pd\n",
    "data=pd.read_csv(\"daily-minimum-temperatures.csv\")\n",
    "print(data)"
   ]
  },
  {
   "cell_type": "code",
   "execution_count": 10,
   "id": "ac69ca42",
   "metadata": {},
   "outputs": [
    {
     "name": "stdout",
     "output_type": "stream",
     "text": [
      "       Date  Daily minimum temperatures\n",
      "0  1/1/1981                        20.7\n",
      "1  1/2/1981                        17.9\n",
      "2  1/3/1981                        18.8\n",
      "3  1/4/1981                        14.6\n",
      "4  1/5/1981                        15.8\n"
     ]
    }
   ],
   "source": [
    "print(data.head(5))"
   ]
  },
  {
   "cell_type": "code",
   "execution_count": 11,
   "id": "79993ecc",
   "metadata": {},
   "outputs": [
    {
     "data": {
      "text/html": [
       "<div>\n",
       "<style scoped>\n",
       "    .dataframe tbody tr th:only-of-type {\n",
       "        vertical-align: middle;\n",
       "    }\n",
       "\n",
       "    .dataframe tbody tr th {\n",
       "        vertical-align: top;\n",
       "    }\n",
       "\n",
       "    .dataframe thead th {\n",
       "        text-align: right;\n",
       "    }\n",
       "</style>\n",
       "<table border=\"1\" class=\"dataframe\">\n",
       "  <thead>\n",
       "    <tr style=\"text-align: right;\">\n",
       "      <th></th>\n",
       "      <th>Daily minimum temperatures</th>\n",
       "    </tr>\n",
       "  </thead>\n",
       "  <tbody>\n",
       "    <tr>\n",
       "      <th>count</th>\n",
       "      <td>3650.000000</td>\n",
       "    </tr>\n",
       "    <tr>\n",
       "      <th>mean</th>\n",
       "      <td>11.177753</td>\n",
       "    </tr>\n",
       "    <tr>\n",
       "      <th>std</th>\n",
       "      <td>4.071837</td>\n",
       "    </tr>\n",
       "    <tr>\n",
       "      <th>min</th>\n",
       "      <td>0.000000</td>\n",
       "    </tr>\n",
       "    <tr>\n",
       "      <th>25%</th>\n",
       "      <td>8.300000</td>\n",
       "    </tr>\n",
       "    <tr>\n",
       "      <th>50%</th>\n",
       "      <td>11.000000</td>\n",
       "    </tr>\n",
       "    <tr>\n",
       "      <th>75%</th>\n",
       "      <td>14.000000</td>\n",
       "    </tr>\n",
       "    <tr>\n",
       "      <th>max</th>\n",
       "      <td>26.300000</td>\n",
       "    </tr>\n",
       "  </tbody>\n",
       "</table>\n",
       "</div>"
      ],
      "text/plain": [
       "       Daily minimum temperatures\n",
       "count                 3650.000000\n",
       "mean                    11.177753\n",
       "std                      4.071837\n",
       "min                      0.000000\n",
       "25%                      8.300000\n",
       "50%                     11.000000\n",
       "75%                     14.000000\n",
       "max                     26.300000"
      ]
     },
     "execution_count": 11,
     "metadata": {},
     "output_type": "execute_result"
    }
   ],
   "source": [
    "data.describe()"
   ]
  },
  {
   "cell_type": "code",
   "execution_count": 12,
   "id": "57e767cd",
   "metadata": {},
   "outputs": [
    {
     "name": "stdout",
     "output_type": "stream",
     "text": [
      "<class 'pandas.core.frame.DataFrame'>\n",
      "RangeIndex: 3650 entries, 0 to 3649\n",
      "Data columns (total 2 columns):\n",
      " #   Column                      Non-Null Count  Dtype  \n",
      "---  ------                      --------------  -----  \n",
      " 0   Date                        3650 non-null   object \n",
      " 1   Daily minimum temperatures  3650 non-null   float64\n",
      "dtypes: float64(1), object(1)\n",
      "memory usage: 57.2+ KB\n"
     ]
    }
   ],
   "source": [
    "data.info()"
   ]
  },
  {
   "cell_type": "code",
   "execution_count": 13,
   "id": "239cb81c",
   "metadata": {},
   "outputs": [
    {
     "data": {
      "text/plain": [
       "Date                          0\n",
       "Daily minimum temperatures    0\n",
       "dtype: int64"
      ]
     },
     "execution_count": 13,
     "metadata": {},
     "output_type": "execute_result"
    }
   ],
   "source": [
    "data.isnull().sum()"
   ]
  },
  {
   "cell_type": "code",
   "execution_count": 15,
   "id": "a0a50cfe",
   "metadata": {},
   "outputs": [],
   "source": [
    "from sklearn.preprocessing import StandardScaler"
   ]
  },
  {
   "cell_type": "code",
   "execution_count": 18,
   "id": "684c0485",
   "metadata": {},
   "outputs": [],
   "source": [
    "x = data.drop([\"Date\"], axis=1) \n",
    "y = data[\"Date\"]"
   ]
  },
  {
   "cell_type": "code",
   "execution_count": null,
   "id": "201b2c5b",
   "metadata": {},
   "outputs": [],
   "source": []
  },
  {
   "cell_type": "code",
   "execution_count": 19,
   "id": "8971fb1d",
   "metadata": {},
   "outputs": [],
   "source": [
    "from sklearn.model_selection import train_test_split"
   ]
  },
  {
   "cell_type": "code",
   "execution_count": 20,
   "id": "c4cb1de7",
   "metadata": {},
   "outputs": [],
   "source": [
    "x_train,x_test,y_train,y_test=train_test_split(x,y,test_size=0.2)"
   ]
  },
  {
   "cell_type": "code",
   "execution_count": 21,
   "id": "5a52c7c9",
   "metadata": {},
   "outputs": [
    {
     "name": "stdout",
     "output_type": "stream",
     "text": [
      "      Daily minimum temperatures\n",
      "1934                        11.1\n",
      "2091                         8.6\n",
      "1228                         6.3\n",
      "3286                        13.3\n",
      "179                          9.5\n",
      "...                          ...\n",
      "1144                        16.3\n",
      "1931                        12.4\n",
      "2350                        13.0\n",
      "3448                        11.4\n",
      "1307                        10.6\n",
      "\n",
      "[2920 rows x 1 columns]\n"
     ]
    }
   ],
   "source": [
    "print(x_train)"
   ]
  },
  {
   "cell_type": "code",
   "execution_count": 22,
   "id": "14fbda67",
   "metadata": {},
   "outputs": [
    {
     "name": "stdout",
     "output_type": "stream",
     "text": [
      "      Daily minimum temperatures\n",
      "986                          6.5\n",
      "2652                        14.7\n",
      "1930                        12.8\n",
      "2719                        12.1\n",
      "912                          9.8\n",
      "...                          ...\n",
      "3588                        14.8\n",
      "979                         11.1\n",
      "42                          13.9\n",
      "286                         13.3\n",
      "294                         11.4\n",
      "\n",
      "[730 rows x 1 columns]\n"
     ]
    }
   ],
   "source": [
    "print(x_test)"
   ]
  },
  {
   "cell_type": "code",
   "execution_count": 23,
   "id": "4657d313",
   "metadata": {},
   "outputs": [
    {
     "name": "stdout",
     "output_type": "stream",
     "text": [
      "1934    4/20/1986\n",
      "2091    9/24/1986\n",
      "1228    5/13/1984\n",
      "3286     1/2/1990\n",
      "179     6/29/1981\n",
      "          ...    \n",
      "1144    2/19/1984\n",
      "1931    4/17/1986\n",
      "2350    6/10/1987\n",
      "3448    6/13/1990\n",
      "1307    7/31/1984\n",
      "Name: Date, Length: 2920, dtype: object\n"
     ]
    }
   ],
   "source": [
    "print(y_train)"
   ]
  },
  {
   "cell_type": "code",
   "execution_count": 24,
   "id": "342fc9f1",
   "metadata": {},
   "outputs": [
    {
     "name": "stdout",
     "output_type": "stream",
     "text": [
      "986      9/14/1983\n",
      "2652      4/7/1988\n",
      "1930     4/16/1986\n",
      "2719     6/13/1988\n",
      "912       7/2/1983\n",
      "           ...    \n",
      "3588    10/31/1990\n",
      "979       9/7/1983\n",
      "42       2/12/1981\n",
      "286     10/14/1981\n",
      "294     10/22/1981\n",
      "Name: Date, Length: 730, dtype: object\n"
     ]
    }
   ],
   "source": [
    "print(y_test)"
   ]
  },
  {
   "cell_type": "code",
   "execution_count": 25,
   "id": "bfb55276",
   "metadata": {},
   "outputs": [],
   "source": [
    "data=data.drop(columns=\"Date\")"
   ]
  },
  {
   "cell_type": "code",
   "execution_count": 26,
   "id": "eef0885c",
   "metadata": {},
   "outputs": [],
   "source": [
    "from scipy.stats import zscore\n",
    "data_z = zscore(data)"
   ]
  },
  {
   "cell_type": "code",
   "execution_count": 27,
   "id": "67a32f76",
   "metadata": {},
   "outputs": [],
   "source": [
    "from sklearn.preprocessing import StandardScaler,normalize\n",
    "scaler = StandardScaler()\n",
    "data_s = scaler.fit_transform(data)\n",
    "data_normal = normalize(data_s)\n",
    "data_normal = pd.DataFrame(data_normal)"
   ]
  },
  {
   "cell_type": "code",
   "execution_count": 28,
   "id": "712ce57e",
   "metadata": {},
   "outputs": [
    {
     "name": "stdout",
     "output_type": "stream",
     "text": [
      "        0\n",
      "0     1.0\n",
      "1     1.0\n",
      "2     1.0\n",
      "3     1.0\n",
      "4     1.0\n",
      "...   ...\n",
      "3645  1.0\n",
      "3646  1.0\n",
      "3647  1.0\n",
      "3648  1.0\n",
      "3649  1.0\n",
      "\n",
      "[3650 rows x 1 columns]\n"
     ]
    }
   ],
   "source": [
    "print(data_normal)"
   ]
  },
  {
   "cell_type": "code",
   "execution_count": 30,
   "id": "b33c75b2",
   "metadata": {},
   "outputs": [],
   "source": [
    "from sklearn.decomposition import PCA\n",
    "pca = PCA(n_components = 1)\n",
    "data_final = pca.fit_transform(data_normal)\n",
    "data_final = pd.DataFrame(data_final)"
   ]
  },
  {
   "cell_type": "code",
   "execution_count": 31,
   "id": "a76bfe1e",
   "metadata": {},
   "outputs": [
    {
     "name": "stdout",
     "output_type": "stream",
     "text": [
      "             0\n",
      "0     1.024658\n",
      "1     1.024658\n",
      "2     1.024658\n",
      "3     1.024658\n",
      "4     1.024658\n",
      "...        ...\n",
      "3645  1.024658\n",
      "3646  1.024658\n",
      "3647  1.024658\n",
      "3648  1.024658\n",
      "3649  1.024658\n",
      "\n",
      "[3650 rows x 1 columns]\n"
     ]
    }
   ],
   "source": [
    "print(data_final)"
   ]
  },
  {
   "cell_type": "code",
   "execution_count": 36,
   "id": "9484ab25",
   "metadata": {},
   "outputs": [
    {
     "data": {
      "image/png": "[encoded data removed]",
      "text/plain": [
       "<Figure size 432x288 with 1 Axes>"
      ]
     },
     "metadata": {
      "needs_background": "light"
     },
     "output_type": "display_data"
    }
   ],
   "source": [
    "import matplotlib.pyplot as plt\n",
    "data.plot(y=[\"Daily minimum temperatures\"])\n",
    "plt.show()"
   ]
  },
  {
   "cell_type": "code",
   "execution_count": null,
   "id": "0c7fede4",
   "metadata": {},
   "outputs": [],
   "source": []
  }
 ],
 "metadata": {
  "kernelspec": {
   "display_name": "Python 3",
   "language": "python",
   "name": "python3"
  },
  "language_info": {
   "codemirror_mode": {
    "name": "ipython",
    "version": 3
   },
   "file_extension": ".py",
   "mimetype": "text/x-python",
   "name": "python",
   "nbconvert_exporter": "python",
   "pygments_lexer": "ipython3",
   "version": "3.8.8"
  }
 },
 "nbformat": 4,
 "nbformat_minor": 5
}
